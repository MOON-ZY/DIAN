{
 "cells": [
  {
   "cell_type": "code",
   "execution_count": 1,
   "metadata": {},
   "outputs": [],
   "source": [
    "import os\n",
    "os.environ[\"KMP_DUPLICATE_LIB_OK\"]=\"TRUE\""
   ]
  },
  {
   "cell_type": "code",
   "execution_count": 2,
   "metadata": {},
   "outputs": [],
   "source": [
    "import torch\n",
    "import torch.nn as nn\n",
    "import math"
   ]
  },
  {
   "cell_type": "code",
   "execution_count": 12,
   "metadata": {},
   "outputs": [],
   "source": [
    "class PositionEncoding(nn.Module):\n",
    "    def __init__(self,max_pos,embed_dim):\n",
    "        super(PositionEncoding,self).__init__()  #最大位置长度和词向量的维度\n",
    "        PE = torch.zeros(max_pos,embed_dim)    #保存位置编码的数组\n",
    "        #生成从零到max_pos-1的位置数组pos\n",
    "        pos = torch.arange(0, max_pos).unsqueeze(1).float()\n",
    "        #序列，jiangewei2，对应2i\n",
    "        multi_term= torch.arange(0,embed_dim,2).float()\n",
    "        #e^(2i*(-log(10000/d)))\n",
    "        multi_term = torch.exp(multi_term *(-math.log(1000.0)/embed_dim))\n",
    "\n",
    "        PE[:,0::2]=torch.sin(pos *multi_term)\n",
    "        PE[:,1::2] = torch.cos(pos * multi_term)\n",
    "        #将数组PE注册为不需要梯度更新的缓存数组\n",
    "        self.register_buffer('PE',PE.unsqueeze(0))\n",
    "#前向传播函数，\n",
    "    def forward(self,x):\n",
    "        return x+ self.PE[:,x.size(1)].clone().detach()"
   ]
  },
  {
   "cell_type": "code",
   "execution_count": 13,
   "metadata": {},
   "outputs": [
    {
     "name": "stdout",
     "output_type": "stream",
     "text": [
      "x:\n",
      "tensor([[[0., 0., 0., 0.],\n",
      "         [0., 0., 0., 0.],\n",
      "         [0., 0., 0., 0.],\n",
      "         [0., 0., 0., 0.],\n",
      "         [0., 0., 0., 0.]],\n",
      "\n",
      "        [[0., 0., 0., 0.],\n",
      "         [0., 0., 0., 0.],\n",
      "         [0., 0., 0., 0.],\n",
      "         [0., 0., 0., 0.],\n",
      "         [0., 0., 0., 0.]]])\n",
      "PE:\n",
      "tensor([[[ 0.0000,  1.0000,  0.0000,  1.0000],\n",
      "         [ 0.8415,  0.5403,  0.0316,  0.9995],\n",
      "         [ 0.9093, -0.4161,  0.0632,  0.9980],\n",
      "         [ 0.1411, -0.9900,  0.0947,  0.9955],\n",
      "         [-0.7568, -0.6536,  0.1262,  0.9920],\n",
      "         [-0.9589,  0.2837,  0.1575,  0.9875],\n",
      "         [-0.2794,  0.9602,  0.1886,  0.9821],\n",
      "         [ 0.6570,  0.7539,  0.2196,  0.9756],\n",
      "         [ 0.9894, -0.1455,  0.2503,  0.9682],\n",
      "         [ 0.4121, -0.9111,  0.2808,  0.9598]]])\n",
      "output:\n",
      "tensor([[[-0.9589,  0.2837,  0.1575,  0.9875],\n",
      "         [-0.9589,  0.2837,  0.1575,  0.9875],\n",
      "         [-0.9589,  0.2837,  0.1575,  0.9875],\n",
      "         [-0.9589,  0.2837,  0.1575,  0.9875],\n",
      "         [-0.9589,  0.2837,  0.1575,  0.9875]],\n",
      "\n",
      "        [[-0.9589,  0.2837,  0.1575,  0.9875],\n",
      "         [-0.9589,  0.2837,  0.1575,  0.9875],\n",
      "         [-0.9589,  0.2837,  0.1575,  0.9875],\n",
      "         [-0.9589,  0.2837,  0.1575,  0.9875],\n",
      "         [-0.9589,  0.2837,  0.1575,  0.9875]]])\n"
     ]
    }
   ],
   "source": [
    "if __name__ == \"__main__\":\n",
    "    max_pos =10 #序长度\n",
    "    embed_dim =4\n",
    "\n",
    "    model = PositionEncoding(max_pos,embed_dim)\n",
    "#样本个数为2，长度为5，维度为4\n",
    "    x =torch.zeros(2,5,embed_dim)\n",
    "    \n",
    "    output = model(x)\n",
    "    print(\"x:\")\n",
    "    print(x)\n",
    "    print(\"PE:\")\n",
    "    print(model.PE)\n",
    "    print(\"output:\")\n",
    "    print(output)\n"
   ]
  },
  {
   "cell_type": "code",
   "execution_count": null,
   "metadata": {},
   "outputs": [],
   "source": []
  }
 ],
 "metadata": {
  "kernelspec": {
   "display_name": "YY",
   "language": "python",
   "name": "python3"
  },
  "language_info": {
   "codemirror_mode": {
    "name": "ipython",
    "version": 3
   },
   "file_extension": ".py",
   "mimetype": "text/x-python",
   "name": "python",
   "nbconvert_exporter": "python",
   "pygments_lexer": "ipython3",
   "version": "3.9.19"
  }
 },
 "nbformat": 4,
 "nbformat_minor": 2
}
