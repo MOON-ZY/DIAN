{
 "cells": [
  {
   "cell_type": "code",
   "execution_count": 1,
   "metadata": {},
   "outputs": [],
   "source": [
    "from math import sqrt\n",
    " \n",
    "import torch\n",
    "import torch.nn as nn\n",
    " \n",
    "class MultiHeadSelfAttention(nn.Module):\n",
    "    dim_in: int  # input dimension\n",
    "    dim_k: int   # key and query dimension\n",
    "    dim_v: int   # value dimension\n",
    "    num_heads: int  # number of heads, for each head, dim_* = dim_* // num_heads\n",
    " \n",
    "    def __init__(self, dim_in, dim_k, dim_v, num_heads=8):\n",
    "        super(MultiHeadSelfAttention, self).__init__()\n",
    "        #维度必须能被num_head 整除\n",
    "        assert dim_k % num_heads == 0 and dim_v % num_heads == 0, \"dim_k and dim_v must be multiple of num_heads\"\n",
    "        self.dim_in = dim_in\n",
    "        self.dim_k = dim_k\n",
    "        self.dim_v = dim_v\n",
    "        self.num_heads = num_heads\n",
    "        #定义线性变换矩阵\n",
    "        self.linear_q = nn.Linear(dim_in, dim_k, bias=False)\n",
    "        self.linear_k = nn.Linear(dim_in, dim_k, bias=False)\n",
    "        self.linear_v = nn.Linear(dim_in, dim_v, bias=False)\n",
    "        self._norm_fact = 1 / sqrt(dim_k // num_heads)\n",
    " \n",
    "    def forward(self, x):\n",
    "        # x: tensor of shape (batch, n, dim_in)\n",
    "        batch, n, dim_in = x.shape\n",
    "        assert dim_in == self.dim_in\n",
    " \n",
    "        nh = self.num_heads\n",
    "        dk = self.dim_k // nh  # dim_k of each head\n",
    "        dv = self.dim_v // nh  # dim_v of each head\n",
    " \n",
    "        q = self.linear_q(x).reshape(batch, n, nh, dk).transpose(1, 2)  # (batch, nh, n, dk)\n",
    "        k = self.linear_k(x).reshape(batch, n, nh, dk).transpose(1, 2)  # (batch, nh, n, dk)\n",
    "        v = self.linear_v(x).reshape(batch, n, nh, dv).transpose(1, 2)  # (batch, nh, n, dv)\n",
    " \n",
    "        dist = torch.matmul(q, k.transpose(2, 3)) * self._norm_fact  # batch, nh, n, n\n",
    "        dist = torch.softmax(dist, dim=-1)  # batch, nh, n, n\n",
    " \n",
    "        att = torch.matmul(dist, v)  # batch, nh, n, dv\n",
    "        att = att.transpose(1, 2).reshape(batch, n, self.dim_v)  # batch, n, dim_v\n",
    "        return att"
   ]
  }
 ],
 "metadata": {
  "kernelspec": {
   "display_name": "YY",
   "language": "python",
   "name": "python3"
  },
  "language_info": {
   "codemirror_mode": {
    "name": "ipython",
    "version": 3
   },
   "file_extension": ".py",
   "mimetype": "text/x-python",
   "name": "python",
   "nbconvert_exporter": "python",
   "pygments_lexer": "ipython3",
   "version": "3.9.19"
  }
 },
 "nbformat": 4,
 "nbformat_minor": 2
}
